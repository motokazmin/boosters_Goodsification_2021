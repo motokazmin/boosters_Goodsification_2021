{
 "cells": [
  {
   "cell_type": "code",
   "execution_count": null,
   "metadata": {},
   "outputs": [],
   "source": [
    "import pandas as pd\n",
    "import pickle\n",
    "import re\n",
    "import nltk\n",
    "from sklearn.preprocessing import Binarizer\n",
    "from sklearn.feature_extraction.text import CountVectorizer\n",
    "\n",
    "def clean_name(name):\n",
    "    if pd.isna(name):\n",
    "        return ''\n",
    "    \n",
    "    name = re.sub(r'[^\\w]', ' ', name)\n",
    "    name = re.sub(r'[,:._\\-\\[\\]\\d]', ' ', name)\n",
    "    return name.lower().strip()\n",
    "\n",
    "test = pd.read_parquet('data/task1_test_for_user.parquet')\n",
    "test['item_name'] = test['item_name'].apply(clean_name)\n",
    "\n",
    "freq_bi = pickle.load(open('freq_bi', 'rb'))\n",
    "freq_false = pickle.load(open('freq_false', 'rb'))\n",
    "\n",
    "clf_bi = pickle.load(open('clf_task1_bi', 'rb'))\n",
    "clf_false = pickle.load(open('clf_task1_false', 'rb'))\n",
    "\n",
    "onehot = Binarizer()\n",
    "X_test_bi = freq_bi.transform(test.item_name)\n",
    "X_test_bi = onehot.fit_transform(X_test_bi)\n",
    "pred_bi = clf_bi.predict(X_test_bi)\n",
    "\n",
    "test_true = test[pred_bi  == True]\n",
    "test_false = test[pred_bi == False]\n",
    "\n",
    "X_test_false = freq_false.transform(test_false.item_name)\n",
    "X_test_false = onehot.fit_transform(X_test_false)\n",
    "pred_false = clf_false.predict(X_test_false)\n",
    "\n",
    "pred_true = [71]*len(test_true)\n",
    "\n",
    "res_false = pd.DataFrame({'id' : test_false['id'].values, 'pred' : pred_false})\n",
    "res_true  = pd.DataFrame({'id' : test_true['id'].values, 'pred' : pred_true})\n",
    "\n",
    "res_false.append(res_true).to_csv('answers.csv', index=None)\n",
    "\n",
    "print('All are Ok!')"
   ]
  },
  {
   "cell_type": "code",
   "execution_count": null,
   "metadata": {},
   "outputs": [],
   "source": [
    "from sklearn.metrics import f1_score\n",
    "\n",
    "df = res_false.append(res_true)\n",
    "df = df.merge(test[['id', 'category_id']])\n",
    "\n",
    "f1_score(df.category_id, df.pred, average='weighted')"
   ]
  },
  {
   "cell_type": "code",
   "execution_count": null,
   "metadata": {},
   "outputs": [],
   "source": []
  }
 ],
 "metadata": {
  "kernelspec": {
   "display_name": "Python 3",
   "language": "python",
   "name": "python3"
  },
  "language_info": {
   "codemirror_mode": {
    "name": "ipython",
    "version": 3
   },
   "file_extension": ".py",
   "mimetype": "text/x-python",
   "name": "python",
   "nbconvert_exporter": "python",
   "pygments_lexer": "ipython3",
   "version": "3.8.5"
  }
 },
 "nbformat": 4,
 "nbformat_minor": 4
}
