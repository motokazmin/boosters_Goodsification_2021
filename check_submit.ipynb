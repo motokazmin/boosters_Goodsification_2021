{
 "cells": [
  {
   "cell_type": "code",
   "execution_count": null,
   "metadata": {},
   "outputs": [],
   "source": [
    "def get_size(obj, seen=None):\n",
    "    \"\"\"Recursively finds size of objects\"\"\"\n",
    "    size = sys.getsizeof(obj)\n",
    "    if seen is None:\n",
    "        seen = set()\n",
    "    obj_id = id(obj)\n",
    "    if obj_id in seen:\n",
    "        return 0\n",
    "    # Important mark as seen *before* entering recursion to gracefully handle\n",
    "    # self-referential objects\n",
    "    seen.add(obj_id)\n",
    "    if isinstance(obj, dict):\n",
    "        size += sum([get_size(v, seen) for v in obj.values()])\n",
    "        size += sum([get_size(k, seen) for k in obj.keys()])\n",
    "    elif hasattr(obj, '__dict__'):\n",
    "        size += get_size(obj.__dict__, seen)\n",
    "    elif hasattr(obj, '__iter__') and not isinstance(obj, (str, bytes, bytearray)):\n",
    "        size += sum([get_size(i, seen) for i in obj])\n",
    "    return size"
   ]
  },
  {
   "cell_type": "code",
   "execution_count": null,
   "metadata": {},
   "outputs": [],
   "source": [
    "import pandas as pd\n",
    "import pickle\n",
    "import re\n",
    "import sys\n",
    "from sklearn.preprocessing import Binarizer\n",
    "\n",
    "def clean_name(name):\n",
    "    name = re.sub(r'[^\\w]', ' ', name)\n",
    "    name = re.sub(r'[,:._\\-\\[\\]\\d]', ' ', name)\n",
    "    return name.lower()\n",
    "\n",
    "\n",
    "test = pd.read_parquet('data_fusion_train.parquet')\n",
    "test = test[test.category_id == -1]\n",
    "test['item_name'] = test['item_name'].apply(clean_name)\n",
    "\n",
    "freq = pickle.load(open('submit_names/tfidf', 'rb'))\n",
    "clf = pickle.load(open('submit_names/clf_task1', 'rb'))\n",
    "\n",
    "print('Load is completed...')\n",
    "\n",
    "X_test = freq.transform(test.item_name)\n",
    "onehot = Binarizer()\n",
    "X_test = onehot.fit_transform(X_test)\n",
    "\n",
    "print('Text vectorize is completed')"
   ]
  },
  {
   "cell_type": "code",
   "execution_count": null,
   "metadata": {},
   "outputs": [],
   "source": [
    "pred = clf.predict(X_test)"
   ]
  }
 ],
 "metadata": {
  "kernelspec": {
   "display_name": "Python 3",
   "language": "python",
   "name": "python3"
  },
  "language_info": {
   "codemirror_mode": {
    "name": "ipython",
    "version": 3
   },
   "file_extension": ".py",
   "mimetype": "text/x-python",
   "name": "python",
   "nbconvert_exporter": "python",
   "pygments_lexer": "ipython3",
   "version": "3.8.5"
  }
 },
 "nbformat": 4,
 "nbformat_minor": 4
}
