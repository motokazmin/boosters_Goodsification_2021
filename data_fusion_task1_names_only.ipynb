{
 "cells": [
  {
   "cell_type": "code",
   "execution_count": null,
   "metadata": {},
   "outputs": [],
   "source": [
    "import numpy as np\n",
    "from sklearn.experimental import enable_hist_gradient_boosting\n",
    "\n",
    "from sklearn.linear_model import LogisticRegression\n",
    "from sklearn.model_selection import cross_val_score\n",
    "from sklearn.feature_extraction.text import TfidfVectorizer\n",
    "from nltk.corpus import stopwords \n",
    "import re\n",
    "import pandas as pd\n",
    "from sklearn.ensemble import RandomForestClassifier, ExtraTreesClassifier\n",
    "from sklearn.gaussian_process import GaussianProcessClassifier\n",
    "from sklearn.linear_model import PassiveAggressiveClassifier\n",
    "from sklearn.linear_model import SGDClassifier, RidgeClassifierCV\n",
    "from sklearn.neural_network import MLPClassifier\n",
    "from sklearn.svm import LinearSVC\n",
    "from sklearn.naive_bayes import GaussianNB\n",
    "from sklearn.calibration import CalibratedClassifierCV\n",
    "from sklearn.semi_supervised import SelfTrainingClassifier\n",
    "\n",
    "from sklearn.semi_supervised import LabelPropagation\n",
    "from sklearn.naive_bayes import MultinomialNB\n",
    "from sklearn.neighbors import NearestCentroid\n",
    "\n",
    "from sklearn.ensemble import BaggingClassifier\n",
    "from sklearn.ensemble import VotingClassifier\n",
    "from sklearn.decomposition import PCA\n",
    "\n",
    "from sklearn.feature_extraction.text import CountVectorizer\n",
    "import pickle\n",
    "from gensim.models.doc2vec import TaggedDocument, Doc2Vec\n",
    "from gensim.sklearn_api import D2VTransformer\n",
    "\n",
    "from sklearn.feature_extraction.text import HashingVectorizer\n",
    "from keras.wrappers.scikit_learn import KerasClassifier\n",
    "from sklearn.decomposition import LatentDirichletAllocation\n",
    "\n",
    "import nltk\n",
    "import string"
   ]
  },
  {
   "cell_type": "code",
   "execution_count": null,
   "metadata": {},
   "outputs": [],
   "source": [
    "def clean_name(name):\n",
    "    name = re.sub(r'[^\\w]', ' ', name)\n",
    "    name = re.sub(r'[,:._\\-\\[\\]\\d]', ' ', name)\n",
    "    \n",
    "    s = ''\n",
    "    for i in tokenize(name.lower().strip()):\n",
    "        s += ' ' + i\n",
    "    return s#name.lower().strip()\n",
    "\n",
    "def tokenize_text(text):\n",
    "    tokens = []\n",
    "    for sent in nltk.sent_tokenize(text):\n",
    "        for word in nltk.word_tokenize(sent):\n",
    "            if len(word) < 3:\n",
    "                continue\n",
    "            tokens.append(word.lower())\n",
    "    return tokens\n",
    "\n",
    "def tokenize(text):\n",
    "    stem = nltk.stem.SnowballStemmer('english')\n",
    "    text = text.lower()\n",
    "    \n",
    "    for token in nltk.word_tokenize(text):\n",
    "        if token in string.punctuation:\n",
    "            continue\n",
    "        yield stem.stem(token)\n",
    "\n",
    "def find_outlets(clf, X_train):\n",
    "    pred = clf.predict(X_train)\n",
    "    d = train.copy()\n",
    "    d['pred'] = pred\n",
    "    \n",
    "    return d[d.category_id != d.pred].groupby('category_id').apply(len).sort_values(), d\n",
    "\n",
    "def write_submit(freq, clf):\n",
    "    pickle.dump(freq, open('submit_names/tfidf', 'wb'))\n",
    "    pickle.dump(clf, open('submit_names/clf_task1', 'wb'))\n",
    "    !cd submit_names;zip submit_names.zip *  \n",
    "    \n",
    "def read_and_clean_data():\n",
    "    train = pd.read_parquet('data_fusion_train.parquet')\n",
    "    train = train[train.category_id != -1].drop_duplicates('item_name')\n",
    "    train['item_name'] = train['item_name'].apply(clean_name)\n",
    "\n",
    "    train.replace('', np.nan, inplace=True)\n",
    "    train.dropna(subset = ['item_name'], inplace = True)\n",
    "\n",
    "    return train.sample(frac=1)   \n",
    "\n",
    "def train_model(train):\n",
    "    X_train = freq.fit_transform(train.item_name)\n",
    "\n",
    "    clf = LinearSVC()\n",
    "    print(cross_val_score(clf, X_train, train.category_id, cv=3, scoring='f1_weighted'))\n",
    "    _ = clf.fit(X_train, train.category_id)\n",
    "    return clf, X_train\n",
    "\n",
    "def category_id_hyperport(data):\n",
    "    iter = 1\n",
    "    cats = data.category_id.unique()\n",
    "    results = []\n",
    "\n",
    "    for c1 in cats:\n",
    "        for c2 in cats[iter:]:\n",
    "            df = data.copy()\n",
    "            df = df[(df.category_id != c1)&(df.category_id != c2)]\n",
    "            train, test = train_test_split(df, test_size=0.3, stratify=df['category_id'])\n",
    "            freq = CountVectorizer(stop_words=stop, binary = True)\n",
    "            clf, X_train = train_model(train)\n",
    "            pred = clf.predict(freq.transform(test.item_name))\n",
    "            score = f1_score(test.category_id, pred, average='weighted')\n",
    "            print('iter {}, score {}, excluded categories {},{}, train size {}'.format(iter, score, c1, c2, len(train)))\n",
    "            results.append({'score' : score, 'cat1' : c1, 'cat2' : c2})\n",
    "        iter += 1"
   ]
  },
  {
   "cell_type": "code",
   "execution_count": null,
   "metadata": {},
   "outputs": [],
   "source": [
    "train = read_and_clean_data()\n",
    "\n",
    "drop_outlets = True\n",
    "stop = stopwords.words('russian') \n",
    "freq = CountVectorizer(stop_words=stop, binary = True)"
   ]
  },
  {
   "cell_type": "code",
   "execution_count": null,
   "metadata": {},
   "outputs": [],
   "source": [
    "clf, X_train = train_model(train)"
   ]
  },
  {
   "cell_type": "code",
   "execution_count": null,
   "metadata": {},
   "outputs": [],
   "source": [
    "if drop_outlets == True:\n",
    "    outlets, train_no_outlets = find_outlets(clf, X_train)\n",
    "    train_no_outlets = train_no_outlets[train_no_outlets.category_id == train_no_outlets.pred]\n",
    "    train_no_outlets.sample(frac=1) \n",
    "    clf, X_train = train_model(train_no_outlets)\n",
    "    \n",
    "write_submit(freq, clf)"
   ]
  },
  {
   "cell_type": "markdown",
   "metadata": {},
   "source": [
    "# This is draft"
   ]
  },
  {
   "cell_type": "code",
   "execution_count": null,
   "metadata": {},
   "outputs": [],
   "source": [
    "d[(d.category_id == 61)&(d.category_id != d.pred)]"
   ]
  },
  {
   "cell_type": "code",
   "execution_count": null,
   "metadata": {},
   "outputs": [],
   "source": [
    "d[(d.category_id == 133)&(d.item_name.str.contains('белье'))]"
   ]
  },
  {
   "cell_type": "code",
   "execution_count": null,
   "metadata": {},
   "outputs": [],
   "source": [
    "d[(d.category_id == 61)&(d.item_name.str.contains('белье'))]"
   ]
  },
  {
   "cell_type": "code",
   "execution_count": null,
   "metadata": {},
   "outputs": [],
   "source": [
    "array([0.59400355, 0.60206136, 0.59848624]) - NearestCentroid\n",
    "array([0.7039181 , 0.70752764, 0.71109001]) - RandomForestClassifier\n",
    "array([0.71958694, 0.72747844, 0.7260711 ]) - ExtraTreesClassifier\n",
    "array([0.73099794, 0.73521632, 0.73163451]) - MultinomialNB(alpha = 0.05)\n",
    "array([0.73408719, 0.74478913, 0.74937629]) - SGDClassifier\n",
    "array([0.75503983, 0.75194788, 0.7556436 ]) - MLPClassifier\n",
    "array([0.753369  , 0.75643443, 0.7608544 ]) - PassiveAggressiveClassifier\n",
    "array([0.75609124, 0.75369773, 0.76303259]) - RidgeClassifierCV\n",
    "array([0.77044554, 0.77085181, 0.77058879]) - BaggingClassifier(LinearSVC())\n",
    "array([0.77754205, 0.77519272, 0.77945042]) - LinearSVC\n",
    "array([0.77099336, 0.77438669, 0.78064815]) - CalibratedClassifierCV\n",
    "array([0.80577326, 0.80291802, 0.80744682]) - CalibratedClassifierCV, freq"
   ]
  },
  {
   "cell_type": "code",
   "execution_count": null,
   "metadata": {},
   "outputs": [],
   "source": [
    "df = pd.DataFrame.from_dict([freq.vocabulary_]).T\n",
    "df.columns = ['goods']\n",
    "df['size'] = df.index.str.len()\n",
    "d = df.sort_values('goods')\n",
    "d"
   ]
  }
 ],
 "metadata": {
  "kernelspec": {
   "display_name": "Python 3",
   "language": "python",
   "name": "python3"
  },
  "language_info": {
   "codemirror_mode": {
    "name": "ipython",
    "version": 3
   },
   "file_extension": ".py",
   "mimetype": "text/x-python",
   "name": "python",
   "nbconvert_exporter": "python",
   "pygments_lexer": "ipython3",
   "version": "3.8.5"
  }
 },
 "nbformat": 4,
 "nbformat_minor": 4
}
