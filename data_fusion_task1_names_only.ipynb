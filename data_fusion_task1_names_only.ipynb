{
 "cells": [
  {
   "cell_type": "code",
   "execution_count": 18,
   "metadata": {},
   "outputs": [],
   "source": [
    "import numpy as np\n",
    "from sklearn.model_selection import cross_val_score\n",
    "from sklearn.feature_extraction.text import TfidfVectorizer\n",
    "from nltk.corpus import stopwords \n",
    "import re\n",
    "import pandas as pd\n",
    "from sklearn.svm import LinearSVC\n",
    "import pickle\n",
    "from gensim.models.doc2vec import TaggedDocument, Doc2Vec\n",
    "from gensim.sklearn_api import D2VTransformer\n",
    "\n",
    "import nltk\n",
    "import string"
   ]
  },
  {
   "cell_type": "code",
   "execution_count": 19,
   "metadata": {},
   "outputs": [],
   "source": [
    "def clean_name(name):\n",
    "    name = re.sub(r'[^\\w]', ' ', name)\n",
    "    name = re.sub(r'[,:._\\-\\[\\]\\d]', ' ', name)\n",
    "    \n",
    "    s = ''\n",
    "    for i in tokenize(name.lower().strip()):\n",
    "        s += ' ' + i\n",
    "    return s#name.lower().strip()\n",
    "\n",
    "def tokenize_text(text):\n",
    "    tokens = []\n",
    "    for sent in nltk.sent_tokenize(text):\n",
    "        for word in nltk.word_tokenize(sent):\n",
    "            if len(word) < 3:\n",
    "                continue\n",
    "            tokens.append(word.lower())\n",
    "    return tokens\n",
    "\n",
    "def tokenize(text):\n",
    "    stem = nltk.stem.SnowballStemmer('english')\n",
    "    text = text.lower()\n",
    "    \n",
    "    for token in nltk.word_tokenize(text):\n",
    "        if token in string.punctuation:\n",
    "            continue\n",
    "        yield stem.stem(token)\n",
    "\n",
    "def find_outlets(clf, X_train):\n",
    "    pred = clf.predict(X_train)\n",
    "    d = train.copy()\n",
    "    d['pred'] = pred\n",
    "    \n",
    "    return d[d.category_id != d.pred].groupby('category_id').apply(len).sort_values(), d\n",
    "\n",
    "def write_submit(freq, clf):\n",
    "    pickle.dump(freq, open('submit_names/tfidf', 'wb'))\n",
    "    pickle.dump(clf, open('submit_names/clf_task1', 'wb'))\n",
    "    !cd submit_names;zip submit_names.zip *  \n",
    "    \n",
    "def read_and_clean_data():\n",
    "    train = pd.read_parquet('data_fusion_train.parquet')\n",
    "    train = train[train.category_id != -1].drop_duplicates('item_name')\n",
    "    train['item_name'] = train['item_name'].apply(clean_name)\n",
    "\n",
    "    train.replace('', np.nan, inplace=True)\n",
    "    train.dropna(subset = ['item_name'], inplace = True)\n",
    "\n",
    "    return train.sample(frac=1)   \n",
    "\n",
    "def train_model(train):\n",
    "    X_train = freq.fit_transform(train.item_name)\n",
    "\n",
    "    clf = LinearSVC()\n",
    "    print(cross_val_score(clf, X_train, train.category_id, cv=3, scoring='f1_weighted'))\n",
    "    _ = clf.fit(X_train, train.category_id)\n",
    "    return clf, X_train"
   ]
  },
  {
   "cell_type": "code",
   "execution_count": 20,
   "metadata": {},
   "outputs": [],
   "source": [
    "train = read_and_clean_data()\n",
    "drop_outlets = True"
   ]
  },
  {
   "cell_type": "code",
   "execution_count": 21,
   "metadata": {},
   "outputs": [
    {
     "name": "stdout",
     "output_type": "stream",
     "text": [
      "[0.82944562 0.82771735 0.83016789]\n"
     ]
    }
   ],
   "source": [
    "freq = TfidfVectorizer(ngram_range=(1,5), analyzer='char_wb')\n",
    "clf, X_train = train_model(train)"
   ]
  },
  {
   "cell_type": "code",
   "execution_count": 22,
   "metadata": {},
   "outputs": [
    {
     "name": "stdout",
     "output_type": "stream",
     "text": [
      "[0.8550724  0.85509868 0.8575399 ]\n",
      "updating: script.py (deflated 58%)\n",
      "  adding: clf_task1 (deflated 80%)\n",
      "  adding: tfidf (deflated 64%)\n"
     ]
    }
   ],
   "source": [
    "if drop_outlets == True:\n",
    "    outlets, train_no_outlets = find_outlets(clf, X_train)\n",
    "    train_no_outlets = train_no_outlets[train_no_outlets.category_id == train_no_outlets.pred]\n",
    "    train_no_outlets.sample(frac=1) \n",
    "    clf, X_train = train_model(train_no_outlets)\n",
    "    \n",
    "write_submit(freq, clf)"
   ]
  },
  {
   "cell_type": "code",
   "execution_count": null,
   "metadata": {},
   "outputs": [],
   "source": [
    "#103 - походы\n",
    "#41 - ход за телом\n",
    "#42 - уход за телом\n",
    "#46 - парфюмерия\n",
    "#138 - дл/ дачи, пикноков\n",
    "#108 - покраска\n",
    "#167 - рукоделие\n",
    "#163 - рукоделие\n",
    "#31 - рукоделие\n",
    "#27 - освещение\n",
    "#106 - для дома\n",
    "#54 - верхняя уличная одежда\n",
    "#56 - одежда\n",
    "#58 - платье женское\n",
    "#150 - все для собак. Очень плохая группа, содержит еду, одежду...\n",
    "#19 - канцелярия\n",
    "#164 - канцелярия\n",
    "#26 - канцелярия\n",
    "#24 - книги. канцелярия\n",
    "#20 - чтиво\n",
    "#203 - упаковка, бумага\n",
    "#56 - для автомобиля\n",
    "#13 - для автомобиля\n",
    "#111 - туалет, ванна\n",
    "#90 - развлечения\n",
    "#96 - для спорта\n",
    "#55 - джинсы\n",
    "#39 - зрение\n",
    "#35 - благовония\n",
    "#101 - еда для фитнеса\n"
   ]
  }
 ],
 "metadata": {
  "kernelspec": {
   "display_name": "Python 3",
   "language": "python",
   "name": "python3"
  },
  "language_info": {
   "codemirror_mode": {
    "name": "ipython",
    "version": 3
   },
   "file_extension": ".py",
   "mimetype": "text/x-python",
   "name": "python",
   "nbconvert_exporter": "python",
   "pygments_lexer": "ipython3",
   "version": "3.8.5"
  }
 },
 "nbformat": 4,
 "nbformat_minor": 4
}
