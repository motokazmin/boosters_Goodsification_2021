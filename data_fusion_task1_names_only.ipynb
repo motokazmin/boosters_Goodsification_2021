{
 "cells": [
  {
   "cell_type": "code",
   "execution_count": 1,
   "metadata": {},
   "outputs": [],
   "source": [
    "import numpy as np\n",
    "from sklearn.model_selection import train_test_split\n",
    "from nltk.corpus import stopwords \n",
    "import re\n",
    "import pandas as pd\n",
    "from sklearn.metrics import f1_score\n",
    "from sklearn.svm import LinearSVC\n",
    "from sklearn.decomposition import PCA\n",
    "\n",
    "from sklearn.feature_extraction.text import CountVectorizer\n",
    "import pickle\n",
    "import nltk\n",
    "import string"
   ]
  },
  {
   "cell_type": "code",
   "execution_count": 2,
   "metadata": {},
   "outputs": [],
   "source": [
    "def clean_name(name):\n",
    "    name = re.sub(r'[^\\w]', ' ', name)\n",
    "    name = re.sub(r'[,:._\\-\\[\\]\\d]', ' ', name)\n",
    "    \n",
    "    s = ''\n",
    "    for i in tokenize(name.lower().strip()):\n",
    "        s += ' ' + i\n",
    "    return s#name.lower().strip()\n",
    "\n",
    "def tokenize_text(text):\n",
    "    tokens = []\n",
    "    for sent in nltk.sent_tokenize(text):\n",
    "        for word in nltk.word_tokenize(sent):\n",
    "            if len(word) < 3:\n",
    "                continue\n",
    "            tokens.append(word.lower())\n",
    "    return tokens\n",
    "\n",
    "def tokenize(text):\n",
    "    stem = nltk.stem.SnowballStemmer('english')\n",
    "    text = text.lower()\n",
    "    \n",
    "    for token in nltk.word_tokenize(text):\n",
    "        if token in string.punctuation:\n",
    "            continue\n",
    "        yield stem.stem(token)\n",
    "\n",
    "def find_outlets(clf, X_train):\n",
    "    pred = clf.predict(X_train)\n",
    "    d = train.copy()\n",
    "    d['pred'] = pred\n",
    "    \n",
    "    return d[d.category_id != d.pred].groupby('category_id').apply(len).sort_values(), d\n",
    "\n",
    "def write_submit(freq, clf):\n",
    "    pickle.dump(freq, open('submit_names/tfidf', 'wb'))\n",
    "    pickle.dump(clf, open('submit_names/clf_task1', 'wb'))\n",
    "    !cd submit_names;zip submit_names.zip *  \n",
    "    \n",
    "def read_and_clean_data():\n",
    "    train = pd.read_parquet('data_fusion_train.parquet')[['item_name', 'category_id']]\n",
    "    train = train[train.category_id != -1].drop_duplicates('item_name')\n",
    "    train['item_name'] = train['item_name'].apply(clean_name)\n",
    "\n",
    "    train.replace('', np.nan, inplace=True)\n",
    "    train.dropna(subset = ['item_name'], inplace = True)\n",
    "\n",
    "    return train.sample(frac=1)   \n",
    "\n",
    "def get_random_batch_unlabeled_data(part = 0.1):\n",
    "    unlbl = pd.read_parquet('data_fusion_train.parquet')\n",
    "    unlbl = unlbl[unlbl.category_id == -1].drop_duplicates('item_name')\n",
    "    unlbl['item_name'] = unlbl['item_name'].apply(clean_name)\n",
    "\n",
    "    unlbl.replace('', np.nan, inplace=True)\n",
    "    unlbl.dropna(subset = ['item_name'], inplace = True)\n",
    "    unlbl.sample(frac=1)   \n",
    "    \n",
    "    return unlbl.iloc[:int(part*len(unlbl)), :]\n",
    "    \n",
    "def get_unlabeled_batch_from_file(max_size = 20000):\n",
    "    return pd.read_csv('pl_01part.csv', index_col = 0).iloc[:max_size, :]\n",
    "    \n",
    "def train_model(train):\n",
    "    X_train = freq.fit_transform(train.item_name)\n",
    "\n",
    "    clf = LinearSVC()\n",
    "    clf = clf.fit(X_train, train.category_id)\n",
    "    return clf, X_train"
   ]
  },
  {
   "cell_type": "code",
   "execution_count": 3,
   "metadata": {},
   "outputs": [
    {
     "name": "stdout",
     "output_type": "stream",
     "text": [
      "score on test without pseudo-labeling: 0.8122468641088886, train shape (33741, 2)\n"
     ]
    }
   ],
   "source": [
    "train = read_and_clean_data()\n",
    "train, test = train_test_split(train, test_size=0.3, stratify=train['category_id'])\n",
    "\n",
    "drop_outlets = True\n",
    "stop = stopwords.words('russian') \n",
    "freq = CountVectorizer(stop_words=stop, binary = True)\n",
    "\n",
    "clf, X_train = train_model(train)\n",
    "pred = clf.predict(freq.transform(test.item_name))\n",
    "\n",
    "score = f1_score(test.category_id, pred, average='weighted')\n",
    "print('score on test without pseudo-labeling: {}, train shape {}'.format(score, train.shape))"
   ]
  },
  {
   "cell_type": "code",
   "execution_count": 4,
   "metadata": {},
   "outputs": [
    {
     "name": "stdout",
     "output_type": "stream",
     "text": [
      "Preparing the new train data with pleudo-labeling\n",
      "new tarin data with pleudo-labeling, train shape (113741, 2)\n"
     ]
    }
   ],
   "source": [
    "print('Preparing the new train data with pleudo-labeling')\n",
    "\n",
    "unlbl = get_unlabeled_batch_from_file(80000)\n",
    "pred = clf.predict(freq.transform(unlbl.item_name))\n",
    "unlbl['category_id'] = pred\n",
    "\n",
    "train = train.append(unlbl).reset_index(drop = True)\n",
    "print('new tarin data with pleudo-labeling, train shape {}'.format(train.shape))"
   ]
  },
  {
   "cell_type": "code",
   "execution_count": 5,
   "metadata": {},
   "outputs": [
    {
     "name": "stdout",
     "output_type": "stream",
     "text": [
      "score on test with pseudo-labeling: 0.8085560239176613, train shape (113741, 2)\n"
     ]
    }
   ],
   "source": [
    "freq = CountVectorizer(stop_words=stop, binary = True)\n",
    "clf, X_train = train_model(train)\n",
    "pred = clf.predict(freq.transform(test.item_name))\n",
    "\n",
    "score = f1_score(test.category_id, pred, average='weighted')\n",
    "print('score on test with pseudo-labeling: {}, train shape {}'.format(score, train.shape))"
   ]
  },
  {
   "cell_type": "code",
   "execution_count": null,
   "metadata": {},
   "outputs": [],
   "source": [
    "# small improvements....\n",
    "if drop_outlets == True:\n",
    "    outlets, train_no_outlets = find_outlets(clf, X_train)\n",
    "    train_no_outlets = train_no_outlets[train_no_outlets.category_id == train_no_outlets.pred]\n",
    "    train_no_outlets.sample(frac=1) \n",
    "    clf, X_train = train_model(train_no_outlets)\n",
    "    \n",
    "write_submit(freq, clf)"
   ]
  },
  {
   "cell_type": "code",
   "execution_count": null,
   "metadata": {},
   "outputs": [],
   "source": []
  }
 ],
 "metadata": {
  "kernelspec": {
   "display_name": "Python 3",
   "language": "python",
   "name": "python3"
  },
  "language_info": {
   "codemirror_mode": {
    "name": "ipython",
    "version": 3
   },
   "file_extension": ".py",
   "mimetype": "text/x-python",
   "name": "python",
   "nbconvert_exporter": "python",
   "pygments_lexer": "ipython3",
   "version": "3.8.5"
  }
 },
 "nbformat": 4,
 "nbformat_minor": 4
}
