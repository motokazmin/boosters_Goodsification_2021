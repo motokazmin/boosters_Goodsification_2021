{
 "cells": [
  {
   "cell_type": "code",
   "execution_count": 2,
   "metadata": {},
   "outputs": [
    {
     "name": "stdout",
     "output_type": "stream",
     "text": [
      "All are Ok!\n"
     ]
    }
   ],
   "source": [
    "import pandas as pd\n",
    "import pickle\n",
    "import re\n",
    "from sklearn.preprocessing import Binarizer\n",
    "from sklearn.feature_extraction.text import CountVectorizer\n",
    "import nltk\n",
    "\n",
    "def clean_name(name):\n",
    "    if pd.isna(name):\n",
    "        return ''\n",
    "\n",
    "    name = re.sub(r'[^\\w]', ' ', name)\n",
    "    name = re.sub(r'[,:._\\-\\[\\]\\d]', ' ', name)\n",
    "    \n",
    "    result = ''\n",
    "    for word in nltk.word_tokenize(name.lower()):\n",
    "        if word == 'nan':\n",
    "            word = 'krvnan'\n",
    "\n",
    "        result += ' ' + word\n",
    "\n",
    "    return result.strip()\n",
    "\n",
    "def tokenize_text(text):\n",
    "    for word in nltk.word_tokenize(text):\n",
    "        if word in voc_dict:\n",
    "            return voc_dict[word]\n",
    "            \n",
    "    return 10000\n",
    "\n",
    "\n",
    "test = pd.read_parquet('data/task1_test_for_user.parquet')\n",
    "test['item_name'] = test['item_name'].apply(clean_name)\n",
    "\n",
    "vocab_uniq_category_words = pd.read_csv('uniq_words.csv', index_col = 0)['category_id']\n",
    "freq_on_uniq_words = CountVectorizer(binary=True)\n",
    "freq_on_uniq_words.fit(vocab_uniq_category_words.index)\n",
    "test_transformed = pd.DataFrame(freq_on_uniq_words.transform(test.item_name).toarray(),\n",
    "                                   columns = freq_on_uniq_words.get_feature_names(), index = test.index)\n",
    "test_on_uniq_indexes = test_transformed[(test_transformed.sum(axis = 1) > 0).values].index\n",
    "\n",
    "test_mix  = test[test.index.isin(test_on_uniq_indexes) == False]\n",
    "test_uniq = test[test.index.isin(test_on_uniq_indexes) == True]\n",
    "voc_dict = vocab_uniq_category_words.to_dict()\n",
    "res_uniq = pd.DataFrame()\n",
    "res_uniq['id']   = test_uniq['id']\n",
    "res_uniq['pred'] = test_uniq.item_name.apply(tokenize_text)\n",
    "\n",
    "freq_mix = pickle.load(open('freq_mix', 'rb'))\n",
    "clf = pickle.load(open('clf_task1_mix', 'rb'))\n",
    "\n",
    "X_test_mix = freq_mix.transform(test_mix.item_name)\n",
    "onehot = Binarizer()\n",
    "X_test_mix = onehot.fit_transform(X_test_mix)\n",
    "\n",
    "pred_mix = clf.predict(X_test_mix)\n",
    "\n",
    "res_mix = pd.DataFrame({'id' : test_mix['id'].values, 'pred' : pred_mix})\n",
    "res_uniq.append(res_mix).sort_values('id').to_csv('answers.csv', index=None)\n",
    "\n",
    "print('All are Ok!')"
   ]
  },
  {
   "cell_type": "code",
   "execution_count": null,
   "metadata": {},
   "outputs": [],
   "source": []
  }
 ],
 "metadata": {
  "kernelspec": {
   "display_name": "Python 3",
   "language": "python",
   "name": "python3"
  },
  "language_info": {
   "codemirror_mode": {
    "name": "ipython",
    "version": 3
   },
   "file_extension": ".py",
   "mimetype": "text/x-python",
   "name": "python",
   "nbconvert_exporter": "python",
   "pygments_lexer": "ipython3",
   "version": "3.8.5"
  }
 },
 "nbformat": 4,
 "nbformat_minor": 4
}
