{
 "cells": [
  {
   "cell_type": "code",
   "execution_count": 1,
   "metadata": {},
   "outputs": [],
   "source": [
    "import numpy as np\n",
    "from sklearn.model_selection import cross_val_score, KFold\n",
    "from sklearn.feature_extraction.text import TfidfVectorizer\n",
    "from nltk.corpus import stopwords \n",
    "import re\n",
    "import pandas as pd\n",
    "from sklearn.svm import LinearSVC\n",
    "from sklearn.feature_extraction.text import CountVectorizer\n",
    "import pickle\n",
    "from gensim.models.doc2vec import TaggedDocument, Doc2Vec\n",
    "from gensim.sklearn_api import D2VTransformer\n",
    "from sklearn.model_selection import train_test_split\n",
    "\n",
    "import nltk\n",
    "import string\n",
    "\n",
    "from sklearn.metrics import f1_score"
   ]
  },
  {
   "cell_type": "code",
   "execution_count": 2,
   "metadata": {},
   "outputs": [],
   "source": [
    "def clean_name(name):\n",
    "    name = re.sub(r'[^\\w]', ' ', name)\n",
    "    name = re.sub(r'[,:._\\-\\[\\]\\d]', ' ', name)\n",
    "    \n",
    "    s = ''\n",
    "    for i in tokenize(name.lower().strip()):\n",
    "        s += ' ' + i\n",
    "    return s#name.lower().strip()\n",
    "\n",
    "def tokenize_text(text):\n",
    "    tokens = []\n",
    "    for sent in nltk.sent_tokenize(text):\n",
    "        for word in nltk.word_tokenize(sent):\n",
    "            if len(word) < 3:\n",
    "                continue\n",
    "            tokens.append(word.lower())\n",
    "    return tokens\n",
    "\n",
    "def tokenize(text):\n",
    "    stem = nltk.stem.SnowballStemmer('english')\n",
    "    text = text.lower()\n",
    "    \n",
    "    for token in nltk.word_tokenize(text):\n",
    "        if token in string.punctuation:\n",
    "            continue\n",
    "        yield stem.stem(token)\n",
    "\n",
    "def find_outlets(clf, X_train):\n",
    "    pred = clf.predict(X_train)\n",
    "    d = train.copy()\n",
    "    d['pred'] = pred\n",
    "    \n",
    "    return d[d.category_id != d.pred].groupby('category_id').apply(len).sort_values(), d\n",
    "\n",
    "def write_submit(tfd_clf, cnv_clf, tfd_freq, cnv_freq):\n",
    "    pickle.dump(tfd_clf, open('submit_names/tfd_clf', 'wb'))\n",
    "    pickle.dump(cnv_clf, open('submit_names/cnv_clf', 'wb'))\n",
    "    pickle.dump(tfd_freq, open('submit_names/tfd_freq', 'wb'))\n",
    "    pickle.dump(cnv_freq, open('submit_names/cnv_freq', 'wb'))\n",
    "    !cd submit_names;zip submit_names.zip *  \n",
    "    \n",
    "def read_and_clean_data():\n",
    "    train = pd.read_parquet('data_fusion_train.parquet')\n",
    "    train = train[train.category_id != -1].drop_duplicates('item_name')\n",
    "    train['item_name'] = train['item_name'].apply(clean_name)\n",
    "    \n",
    "    train.replace('', np.nan, inplace=True)\n",
    "    train.dropna(subset = ['item_name'], inplace = True)\n",
    "\n",
    "    return train.sample(frac=1)   \n",
    "\n",
    "def model_train(train, y):\n",
    "    stop = stopwords.words('russian')\n",
    "    tfd_freq = TfidfVectorizer(ngram_range = (3,5), analyzer=\"char\", max_features=300000, binary = False)\n",
    "    X_train = tfd_freq.fit_transform(train.item_name)\n",
    "    folds = KFold(3, shuffle=True, random_state=0)\n",
    "    tfd_clf = LinearSVC()\n",
    "    print(cross_val_score(tfd_clf, X_train, y, cv=folds, scoring='f1_weighted'))\n",
    "    tfd_clf.fit(X_train, y)\n",
    "\n",
    "    cnv_freq = CountVectorizer(stop_words=stop, binary = True)\n",
    "    X_train = cnv_freq.fit_transform(train.item_name)\n",
    "    folds = KFold(3, shuffle=True, random_state=0)\n",
    "    cnv_clf = LinearSVC()\n",
    "    print(cross_val_score(cnv_clf, X_train, y, cv=folds, scoring='f1_weighted'))\n",
    "    cnv_clf.fit(X_train, y)\n",
    "    \n",
    "    return tfd_clf, cnv_clf, tfd_freq, cnv_freq\n",
    "\n",
    "def model_predict(test, tfd_clf, cnv_clf, tfd_freq, cnv_freq):\n",
    "    p1 = tfd_clf._predict_proba_lr(tfd_freq.transform(test.item_name))\n",
    "    p2 = cnv_clf._predict_proba_lr(cnv_freq.transform(test.item_name))\n",
    "    \n",
    "    r = []\n",
    "    for row in range(0, len(p1)):\n",
    "        mp1 = max(p1[row])\n",
    "        mp2 = max(p2[row])\n",
    "        \n",
    "        idx_mp1 = np.where(p1[row] == mp1)\n",
    "        idx_mp2 = np.where(p2[row] == mp2)\n",
    "        \n",
    "        if mp1 > mp2:\n",
    "            r.append(tfd_clf.classes_[idx_mp1])\n",
    "        else:\n",
    "            r.append(cnv_clf.classes_[idx_mp2])\n",
    "    return r\n",
    "    "
   ]
  },
  {
   "cell_type": "code",
   "execution_count": 3,
   "metadata": {},
   "outputs": [],
   "source": [
    "train = read_and_clean_data()\n",
    "X_train, X_test, y_train, y_test = train_test_split(train[['item_name']], train['category_id'], test_size=0.2, random_state=42)"
   ]
  },
  {
   "cell_type": "code",
   "execution_count": 4,
   "metadata": {},
   "outputs": [
    {
     "name": "stdout",
     "output_type": "stream",
     "text": [
      "[0.81723027 0.81978504 0.82317881]\n",
      "[0.78982615 0.79137929 0.79508493]\n"
     ]
    }
   ],
   "source": [
    "tfd_clf, cnv_clf, tfd_freq, cnv_freq = model_train(X_train, y_train)"
   ]
  },
  {
   "cell_type": "code",
   "execution_count": 5,
   "metadata": {},
   "outputs": [
    {
     "data": {
      "text/plain": [
       "0.8306112839959083"
      ]
     },
     "execution_count": 5,
     "metadata": {},
     "output_type": "execute_result"
    }
   ],
   "source": [
    "preds = model_predict(X_test, tfd_clf, cnv_clf, tfd_freq, cnv_freq)\n",
    "f1_score(y_test, preds, average = 'weighted')"
   ]
  },
  {
   "cell_type": "code",
   "execution_count": 6,
   "metadata": {},
   "outputs": [
    {
     "name": "stdout",
     "output_type": "stream",
     "text": [
      "updating: cnv_clf (deflated 75%)\n",
      "updating: cnv_freq (deflated 51%)\n",
      "updating: script.py (deflated 58%)\n",
      "updating: tfd_clf (deflated 79%)\n",
      "updating: tfd_freq (deflated 75%)\n",
      "updating: clf_task1 (deflated 80%)\n",
      "updating: tfidf (deflated 64%)\n"
     ]
    }
   ],
   "source": [
    "write_submit(tfd_clf, cnv_clf, tfd_freq, cnv_freq)"
   ]
  },
  {
   "cell_type": "code",
   "execution_count": null,
   "metadata": {},
   "outputs": [],
   "source": []
  }
 ],
 "metadata": {
  "kernelspec": {
   "display_name": "Python 3",
   "language": "python",
   "name": "python3"
  },
  "language_info": {
   "codemirror_mode": {
    "name": "ipython",
    "version": 3
   },
   "file_extension": ".py",
   "mimetype": "text/x-python",
   "name": "python",
   "nbconvert_exporter": "python",
   "pygments_lexer": "ipython3",
   "version": "3.8.5"
  }
 },
 "nbformat": 4,
 "nbformat_minor": 4
}
