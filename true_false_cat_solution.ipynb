{
 "cells": [
  {
   "cell_type": "code",
   "execution_count": 1,
   "metadata": {},
   "outputs": [],
   "source": [
    "import numpy as np\n",
    "from sklearn.model_selection import cross_val_score\n",
    "from nltk.corpus import stopwords \n",
    "import re\n",
    "import pandas as pd\n",
    "from sklearn.svm import LinearSVC\n",
    "from sklearn.feature_extraction.text import CountVectorizer\n",
    "import pickle\n",
    "import nltk\n",
    "import string\n",
    "\n",
    "from sklearn.model_selection import train_test_split\n",
    "from sklearn.metrics import f1_score"
   ]
  },
  {
   "cell_type": "code",
   "execution_count": 2,
   "metadata": {},
   "outputs": [],
   "source": [
    "def clean_name(name):\n",
    "    name = re.sub(r'[^\\w]', ' ', name)\n",
    "    name = re.sub(r'[,:._\\-\\[\\]\\d]', ' ', name)\n",
    "    return name.lower().strip()\n",
    "    \n",
    "def read_and_clean_data():\n",
    "    train = pd.read_parquet('data_fusion_train.parquet')\n",
    "    train = train[train.category_id != -1].drop_duplicates('item_name')\n",
    "    train['item_name'] = train['item_name'].apply(clean_name)\n",
    "\n",
    "    train.replace('', np.nan, inplace=True)\n",
    "    train.dropna(subset = ['item_name'], inplace = True)\n",
    "\n",
    "    return train.sample(frac=1)   \n",
    "\n",
    "def train_model_bi(train):\n",
    "    freq = CountVectorizer(stop_words=stop, binary = True)\n",
    "    X_train = freq.fit_transform(train.item_name)\n",
    "\n",
    "    clf = LinearSVC()\n",
    "    print(cross_val_score(clf, X_train, train['class'], cv=3, scoring='f1_weighted'))\n",
    "    _ = clf.fit(X_train, train['class'])\n",
    "    return clf, freq\n",
    "\n",
    "def train_model(train):\n",
    "    freq = CountVectorizer(stop_words=stop, binary = True)\n",
    "    X_train = freq.fit_transform(train.item_name)\n",
    "\n",
    "    clf = LinearSVC()\n",
    "    print(cross_val_score(clf, X_train, train.category_id, cv=3, scoring='f1_weighted'))\n",
    "    _ = clf.fit(X_train, train.category_id)\n",
    "    return clf, freq"
   ]
  },
  {
   "cell_type": "code",
   "execution_count": 3,
   "metadata": {},
   "outputs": [
    {
     "name": "stdout",
     "output_type": "stream",
     "text": [
      "[0.92830172 0.92826276 0.92556586]\n"
     ]
    }
   ],
   "source": [
    "bad_cats = [71, 204, 79, 114]#, 0, 1, 3, 88, 86, 111]\n",
    "\n",
    "train = read_and_clean_data()\n",
    "train['class'] = train.category_id.isin(bad_cats)\n",
    "stop = stopwords.words('russian')\n",
    "\n",
    "clf_bi, freq_bi = train_model_bi(train)"
   ]
  },
  {
   "cell_type": "code",
   "execution_count": 4,
   "metadata": {},
   "outputs": [
    {
     "name": "stdout",
     "output_type": "stream",
     "text": [
      "[0.82920573 0.83155629 0.82854325]\n",
      "[0.88360154 0.88385569 0.88157547]\n"
     ]
    }
   ],
   "source": [
    "train_true = train[train['class'] == True]\n",
    "train_false = train[train['class'] == False]\n",
    "\n",
    "clf_false, freq_false = train_model(train_false)\n",
    "clf_true, freq_true   = train_model(train_true)"
   ]
  },
  {
   "cell_type": "code",
   "execution_count": 5,
   "metadata": {},
   "outputs": [
    {
     "name": "stdout",
     "output_type": "stream",
     "text": [
      "updating: clf_task1_bi (deflated 41%)\n",
      "updating: clf_task1_false (deflated 74%)\n",
      "updating: freq_bi (deflated 51%)\n",
      "updating: freq_false (deflated 51%)\n",
      "updating: script.py (deflated 60%)\n",
      "  adding: clf_task1_true (deflated 41%)\n",
      "  adding: freq_true (deflated 54%)\n"
     ]
    }
   ],
   "source": [
    "pickle.dump(freq_bi, open('booster_submit/freq_bi', 'wb'))\n",
    "pickle.dump(freq_false, open('booster_submit/freq_false', 'wb'))\n",
    "pickle.dump(freq_true, open('booster_submit/freq_true', 'wb'))\n",
    "\n",
    "pickle.dump(clf_bi, open('booster_submit/clf_task1_bi', 'wb'))\n",
    "pickle.dump(clf_false, open('booster_submit/clf_task1_false', 'wb'))\n",
    "pickle.dump(clf_true, open('booster_submit/clf_task1_true', 'wb'))\n",
    "\n",
    "pickle.dump(freq_bi, open('freq_bi', 'wb'))\n",
    "pickle.dump(freq_false, open('freq_false', 'wb'))\n",
    "pickle.dump(freq_true, open('freq_true', 'wb'))\n",
    "\n",
    "pickle.dump(clf_bi, open('clf_task1_bi', 'wb'))\n",
    "pickle.dump(clf_false, open('clf_task1_false', 'wb'))\n",
    "pickle.dump(clf_true, open('clf_task1_true', 'wb'))\n",
    "\n",
    "\n",
    "!cd booster_submit;zip submit.zip *  \n"
   ]
  },
  {
   "cell_type": "code",
   "execution_count": null,
   "metadata": {},
   "outputs": [],
   "source": []
  }
 ],
 "metadata": {
  "kernelspec": {
   "display_name": "Python 3",
   "language": "python",
   "name": "python3"
  },
  "language_info": {
   "codemirror_mode": {
    "name": "ipython",
    "version": 3
   },
   "file_extension": ".py",
   "mimetype": "text/x-python",
   "name": "python",
   "nbconvert_exporter": "python",
   "pygments_lexer": "ipython3",
   "version": "3.8.5"
  }
 },
 "nbformat": 4,
 "nbformat_minor": 4
}
